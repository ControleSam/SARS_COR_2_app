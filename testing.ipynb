{
 "cells": [
  {
   "cell_type": "code",
   "execution_count": 4,
   "metadata": {},
   "outputs": [],
   "source": [
    "import pandas as pd\n",
    "import subprocess\n",
    "import os\n"
   ]
  },
  {
   "cell_type": "code",
   "execution_count": 2,
   "metadata": {},
   "outputs": [],
   "source": [
    "desc = pd.read_csv('resources/descriptors_output.csv')"
   ]
  },
  {
   "cell_type": "code",
   "execution_count": 9,
   "metadata": {},
   "outputs": [],
   "source": [
    "def molDescrCalc():\n",
    "    cmd = \"java -Xms1G -Xmx1G -Djava.awt.headless=true -jar ./resources/PaDEL-Descriptor/PaDEL-Descriptor.jar -removesalt -standardizenitro -fingerprints -descriptortypes ./resources/PaDEL-Descriptor/PubchemFingerprinter.xml -dir ./resources -file ./resources/descriptors_output.csv\"\n",
    "    # cmd = 'pushd resources && bash padel.sh && popd'\n",
    "    process = subprocess.Popen(cmd.split(),stdout=subprocess.PIPE)\n",
    "    _, _ = process.communicate()\n",
    "    # os.remove('resources/molecule.smi')"
   ]
  },
  {
   "cell_type": "code",
   "execution_count": 14,
   "metadata": {},
   "outputs": [],
   "source": [
    "molDescrCalc()"
   ]
  },
  {
   "cell_type": "code",
   "execution_count": 19,
   "metadata": {},
   "outputs": [
    {
     "name": "stdout",
     "output_type": "stream",
     "text": [
      "Processing CHEMBL1200342 in molecule.smi (2/2). \n",
      "Processing CHEMBL461332 in molecule.smi (1/2). \n",
      "Descriptor calculation completed in 0.561 secs . Average speed: 0.28 s/mol.\n"
     ]
    }
   ],
   "source": [
    "! pushd resources && bash padel.sh"
   ]
  },
  {
   "cell_type": "code",
   "execution_count": null,
   "metadata": {},
   "outputs": [],
   "source": []
  }
 ],
 "metadata": {
  "kernelspec": {
   "display_name": "test_env",
   "language": "python",
   "name": "python3"
  },
  "language_info": {
   "codemirror_mode": {
    "name": "ipython",
    "version": 3
   },
   "file_extension": ".py",
   "mimetype": "text/x-python",
   "name": "python",
   "nbconvert_exporter": "python",
   "pygments_lexer": "ipython3",
   "version": "3.9.13"
  },
  "orig_nbformat": 4
 },
 "nbformat": 4,
 "nbformat_minor": 2
}
